{
 "cells": [
  {
   "cell_type": "markdown",
   "id": "99b9463a",
   "metadata": {},
   "source": [
    "Support Vector Machine"
   ]
  },
  {
   "cell_type": "markdown",
   "id": "caff2a69",
   "metadata": {},
   "source": [
    "Step 1: Import the libraries"
   ]
  },
  {
   "cell_type": "code",
   "execution_count": 2,
   "id": "27cbaeb4",
   "metadata": {},
   "outputs": [],
   "source": [
    "import numpy as np\n",
    "import pandas as pd\n",
    "import matplotlib.pyplot as plt\n",
    "import seaborn as sns\n",
    "from sklearn.model_selection import train_test_split, GridSearchCV\n",
    "from sklearn.preprocessing import StandardScaler, PolynomialFeatures\n",
    "from sklearn.svm import SVC\n",
    "from sklearn.metrics import accuracy_score, classification_report, confusion_matrix"
   ]
  },
  {
   "cell_type": "markdown",
   "id": "0144f45c",
   "metadata": {},
   "source": [
    "Step 2: Load the dataset"
   ]
  },
  {
   "cell_type": "code",
   "execution_count": 4,
   "id": "c785ecb1",
   "metadata": {},
   "outputs": [
    {
     "name": "stdout",
     "output_type": "stream",
     "text": [
      "  species     island  bill_length_mm  bill_depth_mm  flipper_length_mm  \\\n",
      "0  Adelie  Torgersen            39.1           18.7              181.0   \n",
      "1  Adelie  Torgersen            39.5           17.4              186.0   \n",
      "2  Adelie  Torgersen            40.3           18.0              195.0   \n",
      "4  Adelie  Torgersen            36.7           19.3              193.0   \n",
      "5  Adelie  Torgersen            39.3           20.6              190.0   \n",
      "\n",
      "   body_mass_g     sex  \n",
      "0       3750.0    Male  \n",
      "1       3800.0  Female  \n",
      "2       3250.0  Female  \n",
      "4       3450.0  Female  \n",
      "5       3650.0    Male  \n"
     ]
    }
   ],
   "source": [
    "data = sns.load_dataset(\"penguins\")\n",
    "data = data.dropna()\n",
    "\n",
    "print(data.head())"
   ]
  },
  {
   "cell_type": "markdown",
   "id": "cd09ab36",
   "metadata": {},
   "source": [
    "Step 3: Feature Engineering and Scaling"
   ]
  },
  {
   "cell_type": "code",
   "execution_count": 8,
   "id": "042435ba",
   "metadata": {},
   "outputs": [],
   "source": [
    "X = data[['bill_length_mm','bill_depth_mm','flipper_length_mm','body_mass_g']]\n",
    "y = data['species']\n",
    "\n",
    "#Encode categorical target (species)\n",
    "y = y.astype(\"category\").cat.codes    #Convert species to numeric lables\n",
    "\n",
    "#Scaling\n",
    "scaler = StandardScaler()\n",
    "X_scaled = scaler.fit_transform(X)\n",
    "\n",
    "#Polynomial Features\n",
    "poly = PolynomialFeatures(degree=2, interaction_only=True,include_bias =False)\n",
    "X_poly = poly.fit_transform(X_scaled)"
   ]
  },
  {
   "cell_type": "markdown",
   "id": "3720512f",
   "metadata": {},
   "source": [
    "Step 4: Train Test Split"
   ]
  },
  {
   "cell_type": "code",
   "execution_count": 9,
   "id": "8016d099",
   "metadata": {},
   "outputs": [],
   "source": [
    "X_train, X_test, y_train, y_test = train_test_split(\n",
    "    X,y, test_size=0.2, random_state=42, stratify=y\n",
    ")"
   ]
  },
  {
   "cell_type": "markdown",
   "id": "8fc61c61",
   "metadata": {},
   "source": [
    "Step 5: SVM classifier + Hyperparameter tuning"
   ]
  },
  {
   "cell_type": "code",
   "execution_count": 10,
   "id": "81bf777a",
   "metadata": {},
   "outputs": [
    {
     "name": "stdout",
     "output_type": "stream",
     "text": [
      "Best params: {'C': 0.1, 'gamma': 'scale', 'kernel': 'linear'}\n",
      "Best CV Accuracy: 0.9774283717679942\n"
     ]
    }
   ],
   "source": [
    "svm = SVC()\n",
    "\n",
    "param_grid = {\n",
    "    \"C\" : [0.1,1,10],\n",
    "    \"kernel\": [\"linear\",\"rbf\",\"poly\"],\n",
    "    \"gamma\": [\"scale\",\"auto\"]\n",
    "}\n",
    "\n",
    "grid = GridSearchCV(svm,param_grid,cv=5, scoring =\"accuracy\",n_jobs = -1)\n",
    "grid.fit(X_train,y_train)\n",
    "\n",
    "print(\"Best params:\", grid.best_params_)\n",
    "print(\"Best CV Accuracy:\",grid.best_score_)"
   ]
  },
  {
   "cell_type": "markdown",
   "id": "b6999e86",
   "metadata": {},
   "source": [
    "Step 6: Evaluate the set"
   ]
  },
  {
   "cell_type": "code",
   "execution_count": 11,
   "id": "adffcc83",
   "metadata": {},
   "outputs": [
    {
     "name": "stdout",
     "output_type": "stream",
     "text": [
      "\n",
      "test Accuracy: 1.0\n",
      "\n",
      "Classification report:\n",
      "               precision    recall  f1-score   support\n",
      "\n",
      "           0       1.00      1.00      1.00        29\n",
      "           1       1.00      1.00      1.00        14\n",
      "           2       1.00      1.00      1.00        24\n",
      "\n",
      "    accuracy                           1.00        67\n",
      "   macro avg       1.00      1.00      1.00        67\n",
      "weighted avg       1.00      1.00      1.00        67\n",
      "\n",
      "\n",
      "Confusion Matrix:\n",
      " [[29  0  0]\n",
      " [ 0 14  0]\n",
      " [ 0  0 24]]\n"
     ]
    }
   ],
   "source": [
    "best_svm = grid.best_estimator_\n",
    "y_pred = best_svm.predict(X_test)\n",
    "\n",
    "print(\"\\ntest Accuracy:\",accuracy_score(y_test,y_pred))\n",
    "print(\"\\nClassification report:\\n\", classification_report(y_test, y_pred))\n",
    "print(\"\\nConfusion Matrix:\\n\", confusion_matrix(y_test,y_pred))"
   ]
  }
 ],
 "metadata": {
  "kernelspec": {
   "display_name": "Python 3",
   "language": "python",
   "name": "python3"
  },
  "language_info": {
   "codemirror_mode": {
    "name": "ipython",
    "version": 3
   },
   "file_extension": ".py",
   "mimetype": "text/x-python",
   "name": "python",
   "nbconvert_exporter": "python",
   "pygments_lexer": "ipython3",
   "version": "3.13.5"
  }
 },
 "nbformat": 4,
 "nbformat_minor": 5
}
