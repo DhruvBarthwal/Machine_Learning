{
 "cells": [
  {
   "cell_type": "markdown",
   "id": "3f6e5de9",
   "metadata": {},
   "source": [
    "Linear Regression"
   ]
  },
  {
   "cell_type": "markdown",
   "id": "f08d06cb",
   "metadata": {},
   "source": [
    "Step 1: Import Libraries"
   ]
  },
  {
   "cell_type": "code",
   "execution_count": 40,
   "id": "09f72484",
   "metadata": {},
   "outputs": [],
   "source": [
    "import numpy as np\n",
    "import pandas as pd\n",
    "import matplotlib.pyplot as plt\n",
    "import matplotlib.axes as ax\n",
    "from matplotlib.animation import FuncAnimation"
   ]
  },
  {
   "cell_type": "markdown",
   "id": "42b34b90",
   "metadata": {},
   "source": [
    "Step 2: Load the dataset and seperate input and target variable\n"
   ]
  },
  {
   "cell_type": "code",
   "execution_count": 41,
   "id": "4ef97de8",
   "metadata": {},
   "outputs": [
    {
     "name": "stdout",
     "output_type": "stream",
     "text": [
      "      x          y\n",
      "0  24.0  21.549452\n",
      "1  50.0  47.464463\n",
      "2  15.0  17.218656\n",
      "3  38.0  36.586398\n",
      "4  87.0  87.288984\n"
     ]
    }
   ],
   "source": [
    "data = pd.read_csv(r\"D:\\Dhruv\\ML\\Dataset\\LinearRegression.csv\")\n",
    "\n",
    "data = data.dropna()\n",
    "\n",
    "print(data.head())\n",
    "\n",
    "train_input = np.array(data.x[0:500]).reshape(500,1)\n",
    "train_output = np.array(data.y[0:500]).reshape(500,1)\n",
    "\n",
    "test_input = np.array(data.x[500:700]).reshape(199,1)\n",
    "test_output = np.array(data.y[500:700]).reshape(199,1)"
   ]
  },
  {
   "cell_type": "markdown",
   "id": "c410ce4e",
   "metadata": {},
   "source": [
    "Step 3: Build the linear regression model"
   ]
  },
  {
   "cell_type": "code",
   "execution_count": null,
   "id": "e5839bad",
   "metadata": {},
   "outputs": [],
   "source": [
    "class LinearRegression:\n",
    "    def __init__(self):\n",
    "        self.parameters = {'m': 0, 'c': 0}   # initialize slope and intercept\n",
    "        self.loss = []\n",
    "\n",
    "    def forward_propagation(self, train_input):\n",
    "        m = self.parameters['m']\n",
    "        c = self.parameters['c']\n",
    "        predictions = np.multiply(m, train_input) + c\n",
    "        return predictions\n",
    "    \n",
    "    def cost_function(self, predictions, train_output):\n",
    "        cost = np.mean((train_output - predictions)**2)\n",
    "        return cost\n",
    "    \n",
    "    def backward_propagation(self, train_input, train_output, predictions):\n",
    "        derivatives = {}\n",
    "        df = (predictions - train_output)\n",
    "        dm = 2 * np.mean(np.multiply(train_input, df))\n",
    "        dc = 2 * np.mean(df)\n",
    "        derivatives['dm'] = dm\n",
    "        derivatives['dc'] = dc\n",
    "        return derivatives\n",
    "    \n",
    "    def update_parameters(self, derivatives, learning_rate):\n",
    "        self.parameters['m'] -= learning_rate * derivatives['dm']\n",
    "        self.parameters['c'] -= learning_rate * derivatives['dc']\n",
    "    \n",
    "    def train(self, train_input, train_output, learning_rate=0.01, iters=50):\n",
    "        self.loss = []\n",
    "\n",
    "        fig, ax = plt.subplots()\n",
    "        x_vals = np.linspace(min(train_input), max(train_input), 100)\n",
    "        (line,) = ax.plot(x_vals, self.parameters['m'] * x_vals + self.parameters['c'],\n",
    "                          color='red', label=\"Regression Line\")\n",
    "        ax.scatter(train_input, train_output, marker='o', color=\"green\", label='Training Data')\n",
    "        ax.set_ylim(0, max(train_output) + 1)\n",
    "\n",
    "        def update(frame):\n",
    "            predictions = self.forward_propagation(train_input)\n",
    "            cost = self.cost_function(predictions, train_output)\n",
    "            derivatives = self.backward_propagation(train_input, train_output, predictions)\n",
    "            self.update_parameters(derivatives, learning_rate)\n",
    "            line.set_ydata(self.parameters['m'] * x_vals + self.parameters['c'])\n",
    "            self.loss.append(cost)\n",
    "            print(f\"Iteration = {frame+1}, Loss = {cost:.4f}\")\n",
    "            return line,\n",
    "\n",
    "        ani = FuncAnimation(fig, update, frames=iters, interval=200, blit=True)\n",
    "        ani.save('linear_regression_A.gif', writer='ffmpeg')\n",
    "\n",
    "        plt.xlabel('Input')\n",
    "        plt.ylabel('Output')\n",
    "        plt.title('Linear Regression')\n",
    "        plt.legend()\n",
    "        plt.show()\n",
    "\n",
    "        return self.parameters, self.loss\n"
   ]
  }
 ],
 "metadata": {
  "kernelspec": {
   "display_name": "Python 3",
   "language": "python",
   "name": "python3"
  },
  "language_info": {
   "codemirror_mode": {
    "name": "ipython",
    "version": 3
   },
   "file_extension": ".py",
   "mimetype": "text/x-python",
   "name": "python",
   "nbconvert_exporter": "python",
   "pygments_lexer": "ipython3",
   "version": "3.13.5"
  }
 },
 "nbformat": 4,
 "nbformat_minor": 5
}
